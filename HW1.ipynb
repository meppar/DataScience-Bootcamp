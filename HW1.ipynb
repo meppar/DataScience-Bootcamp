{
 "cells": [
  {
   "cell_type": "markdown",
   "metadata": {},
   "source": [
    "Take Home Assignment 1\n",
    "1. Write a function  count_vowels(word) that takes a word as an argument and returns the number of vowels in the word"
   ]
  },
  {
   "cell_type": "code",
   "execution_count": 12,
   "metadata": {},
   "outputs": [],
   "source": [
    "def count_vowels(word: str) -> int:\n",
    "    vowels = \"aeiou\"\n",
    "    count = 0\n",
    "    for char in word:\n",
    "        if char in vowels:\n",
    "            count += 1\n",
    "    return count\n",
    "\n",
    "# print(f'Vowels in \"Hello\": {count_vowels(\"Hello\")}')"
   ]
  },
  {
   "cell_type": "markdown",
   "metadata": {},
   "source": [
    "2. Iterate through the following list of animals and print each one in all caps."
   ]
  },
  {
   "cell_type": "code",
   "execution_count": 13,
   "metadata": {},
   "outputs": [
    {
     "name": "stdout",
     "output_type": "stream",
     "text": [
      "TIGER\n",
      "ELEPHANT\n",
      "MONKEY\n",
      "ZEBRA\n",
      "PANTHER\n"
     ]
    }
   ],
   "source": [
    "animals=['tiger', 'elephant', 'monkey', 'zebra', 'panther']\n",
    "for animal in animals:\n",
    "    print(animal.upper())"
   ]
  },
  {
   "cell_type": "markdown",
   "metadata": {},
   "source": [
    "3. Write a program that iterates from 1 to 20, printing each number and whether it's odd or even."
   ]
  },
  {
   "cell_type": "code",
   "execution_count": 14,
   "metadata": {},
   "outputs": [
    {
     "name": "stdout",
     "output_type": "stream",
     "text": [
      "1\tOdd\n",
      "2\tEven\n",
      "3\tOdd\n",
      "4\tEven\n",
      "5\tOdd\n",
      "6\tEven\n",
      "7\tOdd\n",
      "8\tEven\n",
      "9\tOdd\n",
      "10\tEven\n",
      "11\tOdd\n",
      "12\tEven\n",
      "13\tOdd\n",
      "14\tEven\n",
      "15\tOdd\n",
      "16\tEven\n",
      "17\tOdd\n",
      "18\tEven\n",
      "19\tOdd\n",
      "20\tEven\n"
     ]
    }
   ],
   "source": [
    "for i in range(1, 21):\n",
    "    print(f'{i}\\t{\"Even\" if i % 2 == 0 else \"Odd\"}')"
   ]
  },
  {
   "cell_type": "markdown",
   "metadata": {},
   "source": [
    "4. Write a function sum_of_integers(a, b) that takes two integers as input from the user and returns their sum."
   ]
  },
  {
   "cell_type": "code",
   "execution_count": 15,
   "metadata": {},
   "outputs": [],
   "source": [
    "def sum_of_integers():\n",
    "    a = int(input(\"a: \"))\n",
    "    b = int(input(\"b: \"))\n",
    "    return a + b\n",
    "\n",
    "# ans = sum_of_integers()\n",
    "# print(f\"Sum: {ans}\")"
   ]
  }
 ],
 "metadata": {
  "kernelspec": {
   "display_name": ".venv",
   "language": "python",
   "name": "python3"
  },
  "language_info": {
   "codemirror_mode": {
    "name": "ipython",
    "version": 3
   },
   "file_extension": ".py",
   "mimetype": "text/x-python",
   "name": "python",
   "nbconvert_exporter": "python",
   "pygments_lexer": "ipython3",
   "version": "3.11.5"
  }
 },
 "nbformat": 4,
 "nbformat_minor": 2
}
